{
  "nbformat": 4,
  "nbformat_minor": 0,
  "metadata": {
    "colab": {
      "name": "casoFinal.ipynb",
      "provenance": [],
      "collapsed_sections": [],
      "authorship_tag": "ABX9TyMVwmdHnegJPvcFeNEuqQr8",
      "include_colab_link": true
    },
    "kernelspec": {
      "name": "python3",
      "display_name": "Python 3"
    },
    "language_info": {
      "name": "python"
    }
  },
  "cells": [
    {
      "cell_type": "markdown",
      "metadata": {
        "id": "view-in-github",
        "colab_type": "text"
      },
      "source": [
        "<a href=\"https://colab.research.google.com/github/cderamond/mba_UTFSM_finanzas/blob/caso_final/casoFinal%20try1.ipynb\" target=\"_parent\"><img src=\"https://colab.research.google.com/assets/colab-badge.svg\" alt=\"Open In Colab\"/></a>"
      ]
    },
    {
      "cell_type": "markdown",
      "source": [
        "# Actividad 2 (50 puntos)\n",
        "\n",
        "Descargar desde https://finance.yahoo.com/ los precios históricos mensuales de\n",
        "10 acciones (marzo 2011 a marzo 2022). Las acciones deben ser (transarse) en\n",
        "Estados Unidos y como máximo 3 acciones deben corresponder al mismo sector\n",
        "industrial. A partir de los datos mensuales, las estadísticas de cada acción y la correlación entre cada par de ellas:\n",
        "\n"
      ],
      "metadata": {
        "id": "oBZYkbRfXUfi"
      }
    },
    {
      "cell_type": "code",
      "execution_count": 5,
      "metadata": {
        "id": "Gyy79D8eXRlI"
      },
      "outputs": [],
      "source": [
        "# setting environment\n",
        "import yfinance as yf\n",
        "import pandas as pd\n",
        "import numpy as np\n",
        "\n",
        "#get data function\n",
        "def get_historical_data(ticker, start_date):\n",
        "    # Pull Historical Data\n",
        "    data = yf.download(ticker, start=start_date)\n",
        "    # Calculate Daily Returns\n",
        "    data['Daily Return'] = data['Adj Close'].pct_change()   \n",
        "    return data.dropna()\n",
        "# std dev calculation\n",
        "def std_dev(data):\n",
        "    # Get number of observations\n",
        "    n = len(data)\n",
        "    # Calculate mean\n",
        "    mean = sum(data) / n\n",
        "    # Calculate deviations from the mean\n",
        "    deviations = sum([(x - mean)**2 for x in data])\n",
        "    # Calculate Variance & Standard Deviation\n",
        "    variance = deviations / (n - 1)\n",
        "    s = variance**(1/2)\n",
        "    return s\n",
        "# Sharpe Ratio From Scratch\n",
        "def sharpe_ratio(data, risk_free_rate=0.0):\n",
        "    # Calculate Average Daily Return\n",
        "    mean_daily_return = sum(data) / len(data)\n",
        "    # Calculate Standard Deviation\n",
        "    s = std_dev(data)\n",
        "    # Calculate Daily Sharpe Ratio\n",
        "    daily_sharpe_ratio = (mean_daily_return - risk_free_rate) / s\n",
        "    # Annualize Daily Sharpe Ratio\n",
        "    sharpe_ratio = 252**(1/2) * daily_sharpe_ratio\n",
        "    \n",
        "    return sharpe_ratio"
      ]
    },
    {
      "cell_type": "code",
      "source": [
        "#getting the stock data\n",
        "\n",
        "KO = get_historical_data('KO', start_date='2011-03-01')\n",
        "KO"
      ],
      "metadata": {
        "colab": {
          "base_uri": "https://localhost:8080/",
          "height": 472
        },
        "id": "sWf80aTEZK-b",
        "outputId": "56830f72-c5cc-432f-e0b9-2e262423f9b5"
      },
      "execution_count": 9,
      "outputs": [
        {
          "output_type": "stream",
          "name": "stdout",
          "text": [
            "\r[*********************100%***********************]  1 of 1 completed\n"
          ]
        },
        {
          "output_type": "execute_result",
          "data": {
            "text/plain": [
              "                 Open       High        Low      Close  Adj Close    Volume  \\\n",
              "Date                                                                          \n",
              "2011-03-02  32.294998  32.410000  32.064999  32.215000  22.716511  20776000   \n",
              "2011-03-03  32.395000  32.939999  32.389999  32.785000  23.118448  29005800   \n",
              "2011-03-04  32.695000  32.775002  32.384998  32.605000  22.991522  23050800   \n",
              "2011-03-07  32.660000  32.869999  32.240002  32.610001  22.995043  23630000   \n",
              "2011-03-08  32.700001  32.919998  32.610001  32.820000  23.143135  20717600   \n",
              "...               ...        ...        ...        ...        ...       ...   \n",
              "2022-03-30  62.009998  62.209999  61.560001  62.209999  62.209999  13641000   \n",
              "2022-03-31  62.220001  62.639999  62.000000  62.000000  62.000000  16822900   \n",
              "2022-04-01  62.330002  62.950001  62.090000  62.869999  62.869999  12643000   \n",
              "2022-04-04  62.599998  62.790001  61.720001  62.540001  62.540001  11505800   \n",
              "2022-04-05  62.400002  63.235001  62.369999  62.470001  62.470001  15593975   \n",
              "\n",
              "            Daily Return  \n",
              "Date                      \n",
              "2011-03-02     -0.007395  \n",
              "2011-03-03      0.017694  \n",
              "2011-03-04     -0.005490  \n",
              "2011-03-07      0.000153  \n",
              "2011-03-08      0.006440  \n",
              "...                  ...  \n",
              "2022-03-30      0.000804  \n",
              "2022-03-31     -0.003376  \n",
              "2022-04-01      0.014032  \n",
              "2022-04-04     -0.005249  \n",
              "2022-04-05     -0.001119  \n",
              "\n",
              "[2794 rows x 7 columns]"
            ],
            "text/html": [
              "\n",
              "  <div id=\"df-bab90599-cadd-4437-9757-20be54f10642\">\n",
              "    <div class=\"colab-df-container\">\n",
              "      <div>\n",
              "<style scoped>\n",
              "    .dataframe tbody tr th:only-of-type {\n",
              "        vertical-align: middle;\n",
              "    }\n",
              "\n",
              "    .dataframe tbody tr th {\n",
              "        vertical-align: top;\n",
              "    }\n",
              "\n",
              "    .dataframe thead th {\n",
              "        text-align: right;\n",
              "    }\n",
              "</style>\n",
              "<table border=\"1\" class=\"dataframe\">\n",
              "  <thead>\n",
              "    <tr style=\"text-align: right;\">\n",
              "      <th></th>\n",
              "      <th>Open</th>\n",
              "      <th>High</th>\n",
              "      <th>Low</th>\n",
              "      <th>Close</th>\n",
              "      <th>Adj Close</th>\n",
              "      <th>Volume</th>\n",
              "      <th>Daily Return</th>\n",
              "    </tr>\n",
              "    <tr>\n",
              "      <th>Date</th>\n",
              "      <th></th>\n",
              "      <th></th>\n",
              "      <th></th>\n",
              "      <th></th>\n",
              "      <th></th>\n",
              "      <th></th>\n",
              "      <th></th>\n",
              "    </tr>\n",
              "  </thead>\n",
              "  <tbody>\n",
              "    <tr>\n",
              "      <th>2011-03-02</th>\n",
              "      <td>32.294998</td>\n",
              "      <td>32.410000</td>\n",
              "      <td>32.064999</td>\n",
              "      <td>32.215000</td>\n",
              "      <td>22.716511</td>\n",
              "      <td>20776000</td>\n",
              "      <td>-0.007395</td>\n",
              "    </tr>\n",
              "    <tr>\n",
              "      <th>2011-03-03</th>\n",
              "      <td>32.395000</td>\n",
              "      <td>32.939999</td>\n",
              "      <td>32.389999</td>\n",
              "      <td>32.785000</td>\n",
              "      <td>23.118448</td>\n",
              "      <td>29005800</td>\n",
              "      <td>0.017694</td>\n",
              "    </tr>\n",
              "    <tr>\n",
              "      <th>2011-03-04</th>\n",
              "      <td>32.695000</td>\n",
              "      <td>32.775002</td>\n",
              "      <td>32.384998</td>\n",
              "      <td>32.605000</td>\n",
              "      <td>22.991522</td>\n",
              "      <td>23050800</td>\n",
              "      <td>-0.005490</td>\n",
              "    </tr>\n",
              "    <tr>\n",
              "      <th>2011-03-07</th>\n",
              "      <td>32.660000</td>\n",
              "      <td>32.869999</td>\n",
              "      <td>32.240002</td>\n",
              "      <td>32.610001</td>\n",
              "      <td>22.995043</td>\n",
              "      <td>23630000</td>\n",
              "      <td>0.000153</td>\n",
              "    </tr>\n",
              "    <tr>\n",
              "      <th>2011-03-08</th>\n",
              "      <td>32.700001</td>\n",
              "      <td>32.919998</td>\n",
              "      <td>32.610001</td>\n",
              "      <td>32.820000</td>\n",
              "      <td>23.143135</td>\n",
              "      <td>20717600</td>\n",
              "      <td>0.006440</td>\n",
              "    </tr>\n",
              "    <tr>\n",
              "      <th>...</th>\n",
              "      <td>...</td>\n",
              "      <td>...</td>\n",
              "      <td>...</td>\n",
              "      <td>...</td>\n",
              "      <td>...</td>\n",
              "      <td>...</td>\n",
              "      <td>...</td>\n",
              "    </tr>\n",
              "    <tr>\n",
              "      <th>2022-03-30</th>\n",
              "      <td>62.009998</td>\n",
              "      <td>62.209999</td>\n",
              "      <td>61.560001</td>\n",
              "      <td>62.209999</td>\n",
              "      <td>62.209999</td>\n",
              "      <td>13641000</td>\n",
              "      <td>0.000804</td>\n",
              "    </tr>\n",
              "    <tr>\n",
              "      <th>2022-03-31</th>\n",
              "      <td>62.220001</td>\n",
              "      <td>62.639999</td>\n",
              "      <td>62.000000</td>\n",
              "      <td>62.000000</td>\n",
              "      <td>62.000000</td>\n",
              "      <td>16822900</td>\n",
              "      <td>-0.003376</td>\n",
              "    </tr>\n",
              "    <tr>\n",
              "      <th>2022-04-01</th>\n",
              "      <td>62.330002</td>\n",
              "      <td>62.950001</td>\n",
              "      <td>62.090000</td>\n",
              "      <td>62.869999</td>\n",
              "      <td>62.869999</td>\n",
              "      <td>12643000</td>\n",
              "      <td>0.014032</td>\n",
              "    </tr>\n",
              "    <tr>\n",
              "      <th>2022-04-04</th>\n",
              "      <td>62.599998</td>\n",
              "      <td>62.790001</td>\n",
              "      <td>61.720001</td>\n",
              "      <td>62.540001</td>\n",
              "      <td>62.540001</td>\n",
              "      <td>11505800</td>\n",
              "      <td>-0.005249</td>\n",
              "    </tr>\n",
              "    <tr>\n",
              "      <th>2022-04-05</th>\n",
              "      <td>62.400002</td>\n",
              "      <td>63.235001</td>\n",
              "      <td>62.369999</td>\n",
              "      <td>62.470001</td>\n",
              "      <td>62.470001</td>\n",
              "      <td>15593975</td>\n",
              "      <td>-0.001119</td>\n",
              "    </tr>\n",
              "  </tbody>\n",
              "</table>\n",
              "<p>2794 rows × 7 columns</p>\n",
              "</div>\n",
              "      <button class=\"colab-df-convert\" onclick=\"convertToInteractive('df-bab90599-cadd-4437-9757-20be54f10642')\"\n",
              "              title=\"Convert this dataframe to an interactive table.\"\n",
              "              style=\"display:none;\">\n",
              "        \n",
              "  <svg xmlns=\"http://www.w3.org/2000/svg\" height=\"24px\"viewBox=\"0 0 24 24\"\n",
              "       width=\"24px\">\n",
              "    <path d=\"M0 0h24v24H0V0z\" fill=\"none\"/>\n",
              "    <path d=\"M18.56 5.44l.94 2.06.94-2.06 2.06-.94-2.06-.94-.94-2.06-.94 2.06-2.06.94zm-11 1L8.5 8.5l.94-2.06 2.06-.94-2.06-.94L8.5 2.5l-.94 2.06-2.06.94zm10 10l.94 2.06.94-2.06 2.06-.94-2.06-.94-.94-2.06-.94 2.06-2.06.94z\"/><path d=\"M17.41 7.96l-1.37-1.37c-.4-.4-.92-.59-1.43-.59-.52 0-1.04.2-1.43.59L10.3 9.45l-7.72 7.72c-.78.78-.78 2.05 0 2.83L4 21.41c.39.39.9.59 1.41.59.51 0 1.02-.2 1.41-.59l7.78-7.78 2.81-2.81c.8-.78.8-2.07 0-2.86zM5.41 20L4 18.59l7.72-7.72 1.47 1.35L5.41 20z\"/>\n",
              "  </svg>\n",
              "      </button>\n",
              "      \n",
              "  <style>\n",
              "    .colab-df-container {\n",
              "      display:flex;\n",
              "      flex-wrap:wrap;\n",
              "      gap: 12px;\n",
              "    }\n",
              "\n",
              "    .colab-df-convert {\n",
              "      background-color: #E8F0FE;\n",
              "      border: none;\n",
              "      border-radius: 50%;\n",
              "      cursor: pointer;\n",
              "      display: none;\n",
              "      fill: #1967D2;\n",
              "      height: 32px;\n",
              "      padding: 0 0 0 0;\n",
              "      width: 32px;\n",
              "    }\n",
              "\n",
              "    .colab-df-convert:hover {\n",
              "      background-color: #E2EBFA;\n",
              "      box-shadow: 0px 1px 2px rgba(60, 64, 67, 0.3), 0px 1px 3px 1px rgba(60, 64, 67, 0.15);\n",
              "      fill: #174EA6;\n",
              "    }\n",
              "\n",
              "    [theme=dark] .colab-df-convert {\n",
              "      background-color: #3B4455;\n",
              "      fill: #D2E3FC;\n",
              "    }\n",
              "\n",
              "    [theme=dark] .colab-df-convert:hover {\n",
              "      background-color: #434B5C;\n",
              "      box-shadow: 0px 1px 3px 1px rgba(0, 0, 0, 0.15);\n",
              "      filter: drop-shadow(0px 1px 2px rgba(0, 0, 0, 0.3));\n",
              "      fill: #FFFFFF;\n",
              "    }\n",
              "  </style>\n",
              "\n",
              "      <script>\n",
              "        const buttonEl =\n",
              "          document.querySelector('#df-bab90599-cadd-4437-9757-20be54f10642 button.colab-df-convert');\n",
              "        buttonEl.style.display =\n",
              "          google.colab.kernel.accessAllowed ? 'block' : 'none';\n",
              "\n",
              "        async function convertToInteractive(key) {\n",
              "          const element = document.querySelector('#df-bab90599-cadd-4437-9757-20be54f10642');\n",
              "          const dataTable =\n",
              "            await google.colab.kernel.invokeFunction('convertToInteractive',\n",
              "                                                     [key], {});\n",
              "          if (!dataTable) return;\n",
              "\n",
              "          const docLinkHtml = 'Like what you see? Visit the ' +\n",
              "            '<a target=\"_blank\" href=https://colab.research.google.com/notebooks/data_table.ipynb>data table notebook</a>'\n",
              "            + ' to learn more about interactive tables.';\n",
              "          element.innerHTML = '';\n",
              "          dataTable['output_type'] = 'display_data';\n",
              "          await google.colab.output.renderOutput(dataTable, element);\n",
              "          const docLink = document.createElement('div');\n",
              "          docLink.innerHTML = docLinkHtml;\n",
              "          element.appendChild(docLink);\n",
              "        }\n",
              "      </script>\n",
              "    </div>\n",
              "  </div>\n",
              "  "
            ]
          },
          "metadata": {},
          "execution_count": 9
        }
      ]
    },
    {
      "cell_type": "markdown",
      "source": [
        "## A) Describa los principales negocios, riesgos e industria a la que pertenece.\n",
        "\n"
      ],
      "metadata": {
        "id": "BNp9s_WCXt3S"
      }
    },
    {
      "cell_type": "code",
      "source": [
        ""
      ],
      "metadata": {
        "id": "Wp9k4LzUX5zU"
      },
      "execution_count": null,
      "outputs": []
    },
    {
      "cell_type": "markdown",
      "source": [
        "## B) Determine la rentabilidad y riesgo del portafolio invirtiendo 10% en cada acción."
      ],
      "metadata": {
        "id": "XO9NCpfgX2vR"
      }
    },
    {
      "cell_type": "code",
      "source": [
        ""
      ],
      "metadata": {
        "id": "uqxwQyVqYPTl"
      },
      "execution_count": null,
      "outputs": []
    },
    {
      "cell_type": "markdown",
      "source": [
        "## C) Determine el portafolio de mínima varianza."
      ],
      "metadata": {
        "id": "aXYjKXjJYP5e"
      }
    },
    {
      "cell_type": "code",
      "source": [
        ""
      ],
      "metadata": {
        "id": "DBUIa2K9YUFw"
      },
      "execution_count": null,
      "outputs": []
    },
    {
      "cell_type": "markdown",
      "source": [
        "## D) Determine el portafolio óptimo Sharpe (determine Rf según el mercado seleccionado y justifique el valor calculado)."
      ],
      "metadata": {
        "id": "HOtG_nOgYUhv"
      }
    },
    {
      "cell_type": "code",
      "source": [
        ""
      ],
      "metadata": {
        "id": "vFNvPAZpYbZU"
      },
      "execution_count": null,
      "outputs": []
    },
    {
      "cell_type": "markdown",
      "source": [
        "\n",
        "## E) Determine la frontera eficiente de riesgo retorno (10 puntos al menos) e identifique en el gráfico los resultados obtenidos de las letras B), C) y D). Comente."
      ],
      "metadata": {
        "id": "UKzPgv9xYb3u"
      }
    },
    {
      "cell_type": "code",
      "source": [
        ""
      ],
      "metadata": {
        "id": "IlftuJ22Yczp"
      },
      "execution_count": null,
      "outputs": []
    }
  ]
}