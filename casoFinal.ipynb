{
  "nbformat": 4,
  "nbformat_minor": 0,
  "metadata": {
    "colab": {
      "name": "casoFinal.ipynb",
      "provenance": [],
      "collapsed_sections": [],
      "authorship_tag": "ABX9TyMDVdwVnXuQj+pf8/CxbUVF",
      "include_colab_link": true
    },
    "kernelspec": {
      "name": "python3",
      "display_name": "Python 3"
    },
    "language_info": {
      "name": "python"
    }
  },
  "cells": [
    {
      "cell_type": "markdown",
      "metadata": {
        "id": "view-in-github",
        "colab_type": "text"
      },
      "source": [
        "<a href=\"https://colab.research.google.com/github/cderamond/mba_UTFSM_finanzas/blob/caso_final/casoFinal.ipynb\" target=\"_parent\"><img src=\"https://colab.research.google.com/assets/colab-badge.svg\" alt=\"Open In Colab\"/></a>"
      ]
    },
    {
      "cell_type": "markdown",
      "source": [
        "# Actividad 2 (50 puntos)\n",
        "\n",
        "Descargar desde https://finance.yahoo.com/ los precios históricos mensuales de\n",
        "10 acciones (marzo 2011 a marzo 2022). Las acciones deben ser (transarse) en\n",
        "Estados Unidos y como máximo 3 acciones deben corresponder al mismo sector\n",
        "industrial. A partir de los datos mensuales, las estadísticas de cada acción y la correlación entre cada par de ellas:\n",
        "\n"
      ],
      "metadata": {
        "id": "oBZYkbRfXUfi"
      }
    },
    {
      "cell_type": "code",
      "source": [
        "!pip install yfinance --upgrade --no-cache-dir\n",
        "!pip install PyPortfolioOpt"
      ],
      "metadata": {
        "id": "j1DPeJdWoS-A"
      },
      "execution_count": null,
      "outputs": []
    },
    {
      "cell_type": "code",
      "execution_count": 2,
      "metadata": {
        "id": "Gyy79D8eXRlI"
      },
      "outputs": [],
      "source": [
        "# setting environment\n",
        "import numpy as np\n",
        "import yfinance as yf\n",
        "import datetime as dt\n",
        "import pandas as pd\n",
        " \n"
      ]
    },
    {
      "cell_type": "code",
      "source": [
        "# bajar stock data\n",
        "tickers = ['AAPL', 'MSFT', 'GOOGL', 'TSLA', 'KO', 'AMZN', 'GM', 'F', 'BRK-B', 'DIS']\n",
        "start_date = '2011-03-01'\n",
        "end_date = '2022-03-30'\n",
        "\n",
        "# bajamos la data de todas las acciones\n",
        "data = yf.download(tickers, start_date, end_date, group_by='ticker')\n",
        "# ahora las del SP500, VOO ETF como benchmark\n",
        "sp= yf.download('VOO', start_date, end_date, group_by='ticker')"
      ],
      "metadata": {
        "colab": {
          "base_uri": "https://localhost:8080/"
        },
        "id": "sWf80aTEZK-b",
        "outputId": "11d58825-2ad0-4f91-f3ed-3a10b4564e00"
      },
      "execution_count": 4,
      "outputs": [
        {
          "output_type": "stream",
          "name": "stdout",
          "text": [
            "[*********************100%***********************]  10 of 10 completed\n",
            "[*********************100%***********************]  1 of 1 completed\n"
          ]
        }
      ]
    },
    {
      "cell_type": "code",
      "source": [
        "# filtrar los datos\n",
        "dataadj = data.loc[:,(slice(None),'Adj Close')]\n",
        "# revisar la estructura de datos\n",
        "dataadj.dtypes"
      ],
      "metadata": {
        "id": "31sgpBMHwg3m",
        "outputId": "b31634fb-6796-4c3f-a0c2-e5d8edd885e7",
        "colab": {
          "base_uri": "https://localhost:8080/"
        }
      },
      "execution_count": 95,
      "outputs": [
        {
          "output_type": "execute_result",
          "data": {
            "text/plain": [
              "GM     Adj Close    float64\n",
              "AMZN   Adj Close    float64\n",
              "BRK-B  Adj Close    float64\n",
              "F      Adj Close    float64\n",
              "TSLA   Adj Close    float64\n",
              "KO     Adj Close    float64\n",
              "AAPL   Adj Close    float64\n",
              "GOOGL  Adj Close    float64\n",
              "DIS    Adj Close    float64\n",
              "MSFT   Adj Close    float64\n",
              "dtype: object"
            ]
          },
          "metadata": {},
          "execution_count": 95
        }
      ]
    },
    {
      "cell_type": "code",
      "source": [
        "# cambio porcentual\n",
        "dataadj = (dataadj.pct_change()\n",
        "            .dropna()\n",
        "            )\n",
        "dataadj"
      ],
      "metadata": {
        "id": "vGhVdi-nDuUj",
        "outputId": "fc60558d-977e-4ff6-e198-441740f2a524",
        "colab": {
          "base_uri": "https://localhost:8080/",
          "height": 486
        }
      },
      "execution_count": 96,
      "outputs": [
        {
          "output_type": "execute_result",
          "data": {
            "text/plain": [
              "                  GM      AMZN     BRK-B         F      TSLA        KO  \\\n",
              "           Adj Close Adj Close Adj Close Adj Close Adj Close Adj Close   \n",
              "Date                                                                     \n",
              "2011-03-02 -0.002124  0.015227 -0.002698  0.000000  0.003342 -0.007395   \n",
              "2011-03-03  0.004562  0.004476  0.019760  0.006821  0.014155  0.017694   \n",
              "2011-03-04 -0.019376 -0.006482 -0.013841 -0.023035  0.024220 -0.005490   \n",
              "2011-03-07 -0.021303 -0.015087 -0.005380 -0.028433 -0.000401  0.000153   \n",
              "2011-03-08  0.032177 -0.012952  0.015404  0.032834 -0.011227  0.006440   \n",
              "...              ...       ...       ...       ...       ...       ...   \n",
              "2022-03-23 -0.017505 -0.008982 -0.005058 -0.023991  0.005161 -0.006579   \n",
              "2022-03-24  0.013020  0.001478  0.012092  0.008993  0.014823  0.009603   \n",
              "2022-03-25 -0.015783  0.006868  0.018134 -0.021390 -0.003235  0.009019   \n",
              "2022-03-28  0.013058  0.025593  0.002258  0.012143  0.080345  0.006338   \n",
              "2022-03-29  0.046133  0.001920 -0.012376  0.064787  0.007080  0.003876   \n",
              "\n",
              "                AAPL     GOOGL       DIS      MSFT  \n",
              "           Adj Close Adj Close Adj Close Adj Close  \n",
              "Date                                                \n",
              "2011-03-02  0.008044  0.000050  0.006978 -0.003058  \n",
              "2011-03-03  0.021129  0.014597  0.018018  0.004601  \n",
              "2011-03-04  0.001224 -0.014666 -0.011799 -0.009542  \n",
              "2011-03-07 -0.012889 -0.014918 -0.012170 -0.008863  \n",
              "2011-03-08  0.001125  0.001099  0.004184  0.007387  \n",
              "...              ...       ...       ...       ...  \n",
              "2022-03-23  0.008234 -0.011386 -0.017629 -0.015030  \n",
              "2022-03-24  0.022678  0.023840  0.009590  0.015393  \n",
              "2022-03-25  0.003734  0.000713  0.001295 -0.001381  \n",
              "2022-03-28  0.005037 -0.001535 -0.003019  0.023117  \n",
              "2022-03-29  0.019134  0.007423  0.026384  0.015159  \n",
              "\n",
              "[2789 rows x 10 columns]"
            ],
            "text/html": [
              "\n",
              "  <div id=\"df-ae10a3fc-5d99-49c7-91e8-f7b92d42a506\">\n",
              "    <div class=\"colab-df-container\">\n",
              "      <div>\n",
              "<style scoped>\n",
              "    .dataframe tbody tr th:only-of-type {\n",
              "        vertical-align: middle;\n",
              "    }\n",
              "\n",
              "    .dataframe tbody tr th {\n",
              "        vertical-align: top;\n",
              "    }\n",
              "\n",
              "    .dataframe thead tr th {\n",
              "        text-align: left;\n",
              "    }\n",
              "\n",
              "    .dataframe thead tr:last-of-type th {\n",
              "        text-align: right;\n",
              "    }\n",
              "</style>\n",
              "<table border=\"1\" class=\"dataframe\">\n",
              "  <thead>\n",
              "    <tr>\n",
              "      <th></th>\n",
              "      <th>GM</th>\n",
              "      <th>AMZN</th>\n",
              "      <th>BRK-B</th>\n",
              "      <th>F</th>\n",
              "      <th>TSLA</th>\n",
              "      <th>KO</th>\n",
              "      <th>AAPL</th>\n",
              "      <th>GOOGL</th>\n",
              "      <th>DIS</th>\n",
              "      <th>MSFT</th>\n",
              "    </tr>\n",
              "    <tr>\n",
              "      <th></th>\n",
              "      <th>Adj Close</th>\n",
              "      <th>Adj Close</th>\n",
              "      <th>Adj Close</th>\n",
              "      <th>Adj Close</th>\n",
              "      <th>Adj Close</th>\n",
              "      <th>Adj Close</th>\n",
              "      <th>Adj Close</th>\n",
              "      <th>Adj Close</th>\n",
              "      <th>Adj Close</th>\n",
              "      <th>Adj Close</th>\n",
              "    </tr>\n",
              "    <tr>\n",
              "      <th>Date</th>\n",
              "      <th></th>\n",
              "      <th></th>\n",
              "      <th></th>\n",
              "      <th></th>\n",
              "      <th></th>\n",
              "      <th></th>\n",
              "      <th></th>\n",
              "      <th></th>\n",
              "      <th></th>\n",
              "      <th></th>\n",
              "    </tr>\n",
              "  </thead>\n",
              "  <tbody>\n",
              "    <tr>\n",
              "      <th>2011-03-02</th>\n",
              "      <td>-0.002124</td>\n",
              "      <td>0.015227</td>\n",
              "      <td>-0.002698</td>\n",
              "      <td>0.000000</td>\n",
              "      <td>0.003342</td>\n",
              "      <td>-0.007395</td>\n",
              "      <td>0.008044</td>\n",
              "      <td>0.000050</td>\n",
              "      <td>0.006978</td>\n",
              "      <td>-0.003058</td>\n",
              "    </tr>\n",
              "    <tr>\n",
              "      <th>2011-03-03</th>\n",
              "      <td>0.004562</td>\n",
              "      <td>0.004476</td>\n",
              "      <td>0.019760</td>\n",
              "      <td>0.006821</td>\n",
              "      <td>0.014155</td>\n",
              "      <td>0.017694</td>\n",
              "      <td>0.021129</td>\n",
              "      <td>0.014597</td>\n",
              "      <td>0.018018</td>\n",
              "      <td>0.004601</td>\n",
              "    </tr>\n",
              "    <tr>\n",
              "      <th>2011-03-04</th>\n",
              "      <td>-0.019376</td>\n",
              "      <td>-0.006482</td>\n",
              "      <td>-0.013841</td>\n",
              "      <td>-0.023035</td>\n",
              "      <td>0.024220</td>\n",
              "      <td>-0.005490</td>\n",
              "      <td>0.001224</td>\n",
              "      <td>-0.014666</td>\n",
              "      <td>-0.011799</td>\n",
              "      <td>-0.009542</td>\n",
              "    </tr>\n",
              "    <tr>\n",
              "      <th>2011-03-07</th>\n",
              "      <td>-0.021303</td>\n",
              "      <td>-0.015087</td>\n",
              "      <td>-0.005380</td>\n",
              "      <td>-0.028433</td>\n",
              "      <td>-0.000401</td>\n",
              "      <td>0.000153</td>\n",
              "      <td>-0.012889</td>\n",
              "      <td>-0.014918</td>\n",
              "      <td>-0.012170</td>\n",
              "      <td>-0.008863</td>\n",
              "    </tr>\n",
              "    <tr>\n",
              "      <th>2011-03-08</th>\n",
              "      <td>0.032177</td>\n",
              "      <td>-0.012952</td>\n",
              "      <td>0.015404</td>\n",
              "      <td>0.032834</td>\n",
              "      <td>-0.011227</td>\n",
              "      <td>0.006440</td>\n",
              "      <td>0.001125</td>\n",
              "      <td>0.001099</td>\n",
              "      <td>0.004184</td>\n",
              "      <td>0.007387</td>\n",
              "    </tr>\n",
              "    <tr>\n",
              "      <th>...</th>\n",
              "      <td>...</td>\n",
              "      <td>...</td>\n",
              "      <td>...</td>\n",
              "      <td>...</td>\n",
              "      <td>...</td>\n",
              "      <td>...</td>\n",
              "      <td>...</td>\n",
              "      <td>...</td>\n",
              "      <td>...</td>\n",
              "      <td>...</td>\n",
              "    </tr>\n",
              "    <tr>\n",
              "      <th>2022-03-23</th>\n",
              "      <td>-0.017505</td>\n",
              "      <td>-0.008982</td>\n",
              "      <td>-0.005058</td>\n",
              "      <td>-0.023991</td>\n",
              "      <td>0.005161</td>\n",
              "      <td>-0.006579</td>\n",
              "      <td>0.008234</td>\n",
              "      <td>-0.011386</td>\n",
              "      <td>-0.017629</td>\n",
              "      <td>-0.015030</td>\n",
              "    </tr>\n",
              "    <tr>\n",
              "      <th>2022-03-24</th>\n",
              "      <td>0.013020</td>\n",
              "      <td>0.001478</td>\n",
              "      <td>0.012092</td>\n",
              "      <td>0.008993</td>\n",
              "      <td>0.014823</td>\n",
              "      <td>0.009603</td>\n",
              "      <td>0.022678</td>\n",
              "      <td>0.023840</td>\n",
              "      <td>0.009590</td>\n",
              "      <td>0.015393</td>\n",
              "    </tr>\n",
              "    <tr>\n",
              "      <th>2022-03-25</th>\n",
              "      <td>-0.015783</td>\n",
              "      <td>0.006868</td>\n",
              "      <td>0.018134</td>\n",
              "      <td>-0.021390</td>\n",
              "      <td>-0.003235</td>\n",
              "      <td>0.009019</td>\n",
              "      <td>0.003734</td>\n",
              "      <td>0.000713</td>\n",
              "      <td>0.001295</td>\n",
              "      <td>-0.001381</td>\n",
              "    </tr>\n",
              "    <tr>\n",
              "      <th>2022-03-28</th>\n",
              "      <td>0.013058</td>\n",
              "      <td>0.025593</td>\n",
              "      <td>0.002258</td>\n",
              "      <td>0.012143</td>\n",
              "      <td>0.080345</td>\n",
              "      <td>0.006338</td>\n",
              "      <td>0.005037</td>\n",
              "      <td>-0.001535</td>\n",
              "      <td>-0.003019</td>\n",
              "      <td>0.023117</td>\n",
              "    </tr>\n",
              "    <tr>\n",
              "      <th>2022-03-29</th>\n",
              "      <td>0.046133</td>\n",
              "      <td>0.001920</td>\n",
              "      <td>-0.012376</td>\n",
              "      <td>0.064787</td>\n",
              "      <td>0.007080</td>\n",
              "      <td>0.003876</td>\n",
              "      <td>0.019134</td>\n",
              "      <td>0.007423</td>\n",
              "      <td>0.026384</td>\n",
              "      <td>0.015159</td>\n",
              "    </tr>\n",
              "  </tbody>\n",
              "</table>\n",
              "<p>2789 rows × 10 columns</p>\n",
              "</div>\n",
              "      <button class=\"colab-df-convert\" onclick=\"convertToInteractive('df-ae10a3fc-5d99-49c7-91e8-f7b92d42a506')\"\n",
              "              title=\"Convert this dataframe to an interactive table.\"\n",
              "              style=\"display:none;\">\n",
              "        \n",
              "  <svg xmlns=\"http://www.w3.org/2000/svg\" height=\"24px\"viewBox=\"0 0 24 24\"\n",
              "       width=\"24px\">\n",
              "    <path d=\"M0 0h24v24H0V0z\" fill=\"none\"/>\n",
              "    <path d=\"M18.56 5.44l.94 2.06.94-2.06 2.06-.94-2.06-.94-.94-2.06-.94 2.06-2.06.94zm-11 1L8.5 8.5l.94-2.06 2.06-.94-2.06-.94L8.5 2.5l-.94 2.06-2.06.94zm10 10l.94 2.06.94-2.06 2.06-.94-2.06-.94-.94-2.06-.94 2.06-2.06.94z\"/><path d=\"M17.41 7.96l-1.37-1.37c-.4-.4-.92-.59-1.43-.59-.52 0-1.04.2-1.43.59L10.3 9.45l-7.72 7.72c-.78.78-.78 2.05 0 2.83L4 21.41c.39.39.9.59 1.41.59.51 0 1.02-.2 1.41-.59l7.78-7.78 2.81-2.81c.8-.78.8-2.07 0-2.86zM5.41 20L4 18.59l7.72-7.72 1.47 1.35L5.41 20z\"/>\n",
              "  </svg>\n",
              "      </button>\n",
              "      \n",
              "  <style>\n",
              "    .colab-df-container {\n",
              "      display:flex;\n",
              "      flex-wrap:wrap;\n",
              "      gap: 12px;\n",
              "    }\n",
              "\n",
              "    .colab-df-convert {\n",
              "      background-color: #E8F0FE;\n",
              "      border: none;\n",
              "      border-radius: 50%;\n",
              "      cursor: pointer;\n",
              "      display: none;\n",
              "      fill: #1967D2;\n",
              "      height: 32px;\n",
              "      padding: 0 0 0 0;\n",
              "      width: 32px;\n",
              "    }\n",
              "\n",
              "    .colab-df-convert:hover {\n",
              "      background-color: #E2EBFA;\n",
              "      box-shadow: 0px 1px 2px rgba(60, 64, 67, 0.3), 0px 1px 3px 1px rgba(60, 64, 67, 0.15);\n",
              "      fill: #174EA6;\n",
              "    }\n",
              "\n",
              "    [theme=dark] .colab-df-convert {\n",
              "      background-color: #3B4455;\n",
              "      fill: #D2E3FC;\n",
              "    }\n",
              "\n",
              "    [theme=dark] .colab-df-convert:hover {\n",
              "      background-color: #434B5C;\n",
              "      box-shadow: 0px 1px 3px 1px rgba(0, 0, 0, 0.15);\n",
              "      filter: drop-shadow(0px 1px 2px rgba(0, 0, 0, 0.3));\n",
              "      fill: #FFFFFF;\n",
              "    }\n",
              "  </style>\n",
              "\n",
              "      <script>\n",
              "        const buttonEl =\n",
              "          document.querySelector('#df-ae10a3fc-5d99-49c7-91e8-f7b92d42a506 button.colab-df-convert');\n",
              "        buttonEl.style.display =\n",
              "          google.colab.kernel.accessAllowed ? 'block' : 'none';\n",
              "\n",
              "        async function convertToInteractive(key) {\n",
              "          const element = document.querySelector('#df-ae10a3fc-5d99-49c7-91e8-f7b92d42a506');\n",
              "          const dataTable =\n",
              "            await google.colab.kernel.invokeFunction('convertToInteractive',\n",
              "                                                     [key], {});\n",
              "          if (!dataTable) return;\n",
              "\n",
              "          const docLinkHtml = 'Like what you see? Visit the ' +\n",
              "            '<a target=\"_blank\" href=https://colab.research.google.com/notebooks/data_table.ipynb>data table notebook</a>'\n",
              "            + ' to learn more about interactive tables.';\n",
              "          element.innerHTML = '';\n",
              "          dataTable['output_type'] = 'display_data';\n",
              "          await google.colab.output.renderOutput(dataTable, element);\n",
              "          const docLink = document.createElement('div');\n",
              "          docLink.innerHTML = docLinkHtml;\n",
              "          element.appendChild(docLink);\n",
              "        }\n",
              "      </script>\n",
              "    </div>\n",
              "  </div>\n",
              "  "
            ]
          },
          "metadata": {},
          "execution_count": 96
        }
      ]
    },
    {
      "cell_type": "markdown",
      "source": [
        ""
      ],
      "metadata": {
        "id": "XYRYngumpCYh"
      }
    },
    {
      "cell_type": "code",
      "source": [
        "\n"
      ],
      "metadata": {
        "id": "O403dtt6pDPv",
        "outputId": "45ec4632-53da-40b0-eaa8-ead2dddf3001",
        "colab": {
          "base_uri": "https://localhost:8080/"
        }
      },
      "execution_count": 24,
      "outputs": [
        {
          "output_type": "execute_result",
          "data": {
            "text/plain": [
              "Date\n",
              "2011-03-01         NaN\n",
              "2011-03-01         NaN\n",
              "2011-03-01         NaN\n",
              "2011-03-01         NaN\n",
              "2011-03-01         NaN\n",
              "2011-03-01         NaN\n",
              "2011-03-01         NaN\n",
              "2011-03-01         NaN\n",
              "2011-03-01         NaN\n",
              "2011-03-01         NaN\n",
              "2011-03-02    0.008044\n",
              "2011-03-02    0.015227\n",
              "2011-03-02   -0.002698\n",
              "2011-03-02    0.006978\n",
              "2011-03-02    0.000000\n",
              "2011-03-02   -0.002124\n",
              "2011-03-02    0.000050\n",
              "2011-03-02   -0.007395\n",
              "2011-03-02   -0.003058\n",
              "2011-03-02    0.003342\n",
              "Name: Adj Close, dtype: float64"
            ]
          },
          "metadata": {},
          "execution_count": 24
        }
      ]
    },
    {
      "cell_type": "markdown",
      "source": [
        "## A) Describa los principales negocios, riesgos e industria a la que pertenece.\n",
        "\n"
      ],
      "metadata": {
        "id": "BNp9s_WCXt3S"
      }
    },
    {
      "cell_type": "code",
      "source": [
        ""
      ],
      "metadata": {
        "id": "Wp9k4LzUX5zU"
      },
      "execution_count": null,
      "outputs": []
    },
    {
      "cell_type": "markdown",
      "source": [
        "## B) Determine la rentabilidad y riesgo del portafolio invirtiendo 10% en cada acción."
      ],
      "metadata": {
        "id": "XO9NCpfgX2vR"
      }
    },
    {
      "cell_type": "code",
      "source": [
        ""
      ],
      "metadata": {
        "id": "uqxwQyVqYPTl"
      },
      "execution_count": null,
      "outputs": []
    },
    {
      "cell_type": "markdown",
      "source": [
        "## C) Determine el portafolio de mínima varianza."
      ],
      "metadata": {
        "id": "aXYjKXjJYP5e"
      }
    },
    {
      "cell_type": "code",
      "source": [
        ""
      ],
      "metadata": {
        "id": "DBUIa2K9YUFw"
      },
      "execution_count": null,
      "outputs": []
    },
    {
      "cell_type": "markdown",
      "source": [
        "## D) Determine el portafolio óptimo Sharpe (determine Rf según el mercado seleccionado y justifique el valor calculado)."
      ],
      "metadata": {
        "id": "HOtG_nOgYUhv"
      }
    },
    {
      "cell_type": "code",
      "source": [
        ""
      ],
      "metadata": {
        "id": "vFNvPAZpYbZU"
      },
      "execution_count": null,
      "outputs": []
    },
    {
      "cell_type": "markdown",
      "source": [
        "\n",
        "## E) Determine la frontera eficiente de riesgo retorno (10 puntos al menos) e identifique en el gráfico los resultados obtenidos de las letras B), C) y D). Comente."
      ],
      "metadata": {
        "id": "UKzPgv9xYb3u"
      }
    },
    {
      "cell_type": "code",
      "source": [
        ""
      ],
      "metadata": {
        "id": "IlftuJ22Yczp"
      },
      "execution_count": null,
      "outputs": []
    }
  ]
}