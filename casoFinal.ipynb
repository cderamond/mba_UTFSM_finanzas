{
  "nbformat": 4,
  "nbformat_minor": 0,
  "metadata": {
    "colab": {
      "name": "casoFinal.ipynb",
      "provenance": [],
      "collapsed_sections": [],
      "authorship_tag": "ABX9TyOOEszhwsuBGxrD9esYIbkD",
      "include_colab_link": true
    },
    "kernelspec": {
      "name": "python3",
      "display_name": "Python 3"
    },
    "language_info": {
      "name": "python"
    }
  },
  "cells": [
    {
      "cell_type": "markdown",
      "metadata": {
        "id": "view-in-github",
        "colab_type": "text"
      },
      "source": [
        "<a href=\"https://colab.research.google.com/github/cderamond/mba_UTFSM_finanzas/blob/caso_final/casoFinal.ipynb\" target=\"_parent\"><img src=\"https://colab.research.google.com/assets/colab-badge.svg\" alt=\"Open In Colab\"/></a>"
      ]
    },
    {
      "cell_type": "markdown",
      "source": [
        "# Actividad 2 (50 puntos)\n",
        "\n",
        "Descargar desde https://finance.yahoo.com/ los precios históricos mensuales de\n",
        "10 acciones (marzo 2011 a marzo 2022). Las acciones deben ser (transarse) en\n",
        "Estados Unidos y como máximo 3 acciones deben corresponder al mismo sector\n",
        "industrial. A partir de los datos mensuales, las estadísticas de cada acción y la correlación entre cada par de ellas:\n",
        "\n"
      ],
      "metadata": {
        "id": "oBZYkbRfXUfi"
      }
    },
    {
      "cell_type": "code",
      "source": [
        "!pip install yfinance --upgrade --no-cache-dir"
      ],
      "metadata": {
        "id": "j1DPeJdWoS-A"
      },
      "execution_count": null,
      "outputs": []
    },
    {
      "cell_type": "code",
      "execution_count": 13,
      "metadata": {
        "id": "Gyy79D8eXRlI"
      },
      "outputs": [],
      "source": [
        "# setting environment\n",
        "import numpy as np\n",
        "import yfinance as yf\n",
        "import datetime as dt\n",
        "import pandas as pd\n",
        " \n"
      ]
    },
    {
      "cell_type": "code",
      "source": [
        "#getting the stock data\n",
        "tickers = ['AAPL', 'MSFT', 'GOOGL', 'TSLA', 'KO', 'AMZN', 'GM', 'F', 'BRK-B', 'DIS']\n",
        "start_date = '2011-03-01'\n",
        "end_date = '2022-03-30'\n",
        "\n",
        "data = yf.download(tickers, start_date, end_date, group_by='ticker')"
      ],
      "metadata": {
        "colab": {
          "base_uri": "https://localhost:8080/"
        },
        "id": "sWf80aTEZK-b",
        "outputId": "73f7d278-4dbc-4f87-d6b5-13793cc17063"
      },
      "execution_count": 18,
      "outputs": [
        {
          "output_type": "stream",
          "name": "stdout",
          "text": [
            "[*********************100%***********************]  10 of 10 completed\n"
          ]
        }
      ]
    },
    {
      "cell_type": "code",
      "source": [
        "data.head()"
      ],
      "metadata": {
        "colab": {
          "base_uri": "https://localhost:8080/",
          "height": 298
        },
        "id": "dJkqvBoom7AV",
        "outputId": "544602da-ba3a-4f55-b04c-dff602321702"
      },
      "execution_count": 24,
      "outputs": [
        {
          "output_type": "execute_result",
          "data": {
            "text/plain": [
              "             TSLA                                                MSFT  \\\n",
              "             Open   High    Low  Close Adj Close    Volume       Open   \n",
              "Date                                                                    \n",
              "2011-03-01  4.810  4.864  4.740  4.788     4.788   5532000  26.600000   \n",
              "2011-03-02  4.764  4.856  4.746  4.804     4.804   3316500  26.110001   \n",
              "2011-03-03  4.896  4.958  4.812  4.872     4.872   3201000  26.260000   \n",
              "2011-03-04  4.896  4.998  4.756  4.990     4.990   7900500  26.219999   \n",
              "2011-03-07  4.986  5.080  4.940  4.988     4.988  10168000  26.129999   \n",
              "\n",
              "                                             ...         GM             \\\n",
              "                 High        Low      Close  ...        Low      Close   \n",
              "Date                                         ...                         \n",
              "2011-03-01  26.780001  26.150000  26.160000  ...  32.430000  32.950001   \n",
              "2011-03-02  26.370001  26.040001  26.080000  ...  32.590000  32.880001   \n",
              "2011-03-03  26.400000  26.180000  26.200001  ...  32.650002  33.029999   \n",
              "2011-03-04  26.240000  25.799999  25.950001  ...  32.009998  32.389999   \n",
              "2011-03-07  26.270000  25.549999  25.719999  ...  31.520000  31.700001   \n",
              "\n",
              "                                      AAPL                                   \\\n",
              "            Adj Close    Volume       Open       High        Low      Close   \n",
              "Date                                                                          \n",
              "2011-03-01  25.466845  27321600  12.695357  12.704286  12.417143  12.475357   \n",
              "2011-03-02  25.412746  14306700  12.498571  12.655357  12.442857  12.575714   \n",
              "2011-03-03  25.528679  17614800  12.756786  12.849643  12.711429  12.841429   \n",
              "2011-03-04  25.034027  24240900  12.859643  12.867500  12.776786  12.857143   \n",
              "2011-03-07  24.500729  15077100  12.907143  12.916786  12.546786  12.691429   \n",
              "\n",
              "                                  \n",
              "            Adj Close     Volume  \n",
              "Date                              \n",
              "2011-03-01  10.682329  456136800  \n",
              "2011-03-02  10.768260  602590800  \n",
              "2011-03-03  10.995788  500788400  \n",
              "2011-03-04  11.009242  453266800  \n",
              "2011-03-07  10.867343  546123200  \n",
              "\n",
              "[5 rows x 60 columns]"
            ],
            "text/html": [
              "\n",
              "  <div id=\"df-eadc5d6b-273f-46c5-bce0-5c90d5f86573\">\n",
              "    <div class=\"colab-df-container\">\n",
              "      <div>\n",
              "<style scoped>\n",
              "    .dataframe tbody tr th:only-of-type {\n",
              "        vertical-align: middle;\n",
              "    }\n",
              "\n",
              "    .dataframe tbody tr th {\n",
              "        vertical-align: top;\n",
              "    }\n",
              "\n",
              "    .dataframe thead tr th {\n",
              "        text-align: left;\n",
              "    }\n",
              "\n",
              "    .dataframe thead tr:last-of-type th {\n",
              "        text-align: right;\n",
              "    }\n",
              "</style>\n",
              "<table border=\"1\" class=\"dataframe\">\n",
              "  <thead>\n",
              "    <tr>\n",
              "      <th></th>\n",
              "      <th colspan=\"6\" halign=\"left\">TSLA</th>\n",
              "      <th colspan=\"4\" halign=\"left\">MSFT</th>\n",
              "      <th>...</th>\n",
              "      <th colspan=\"4\" halign=\"left\">GM</th>\n",
              "      <th colspan=\"6\" halign=\"left\">AAPL</th>\n",
              "    </tr>\n",
              "    <tr>\n",
              "      <th></th>\n",
              "      <th>Open</th>\n",
              "      <th>High</th>\n",
              "      <th>Low</th>\n",
              "      <th>Close</th>\n",
              "      <th>Adj Close</th>\n",
              "      <th>Volume</th>\n",
              "      <th>Open</th>\n",
              "      <th>High</th>\n",
              "      <th>Low</th>\n",
              "      <th>Close</th>\n",
              "      <th>...</th>\n",
              "      <th>Low</th>\n",
              "      <th>Close</th>\n",
              "      <th>Adj Close</th>\n",
              "      <th>Volume</th>\n",
              "      <th>Open</th>\n",
              "      <th>High</th>\n",
              "      <th>Low</th>\n",
              "      <th>Close</th>\n",
              "      <th>Adj Close</th>\n",
              "      <th>Volume</th>\n",
              "    </tr>\n",
              "    <tr>\n",
              "      <th>Date</th>\n",
              "      <th></th>\n",
              "      <th></th>\n",
              "      <th></th>\n",
              "      <th></th>\n",
              "      <th></th>\n",
              "      <th></th>\n",
              "      <th></th>\n",
              "      <th></th>\n",
              "      <th></th>\n",
              "      <th></th>\n",
              "      <th></th>\n",
              "      <th></th>\n",
              "      <th></th>\n",
              "      <th></th>\n",
              "      <th></th>\n",
              "      <th></th>\n",
              "      <th></th>\n",
              "      <th></th>\n",
              "      <th></th>\n",
              "      <th></th>\n",
              "      <th></th>\n",
              "    </tr>\n",
              "  </thead>\n",
              "  <tbody>\n",
              "    <tr>\n",
              "      <th>2011-03-01</th>\n",
              "      <td>4.810</td>\n",
              "      <td>4.864</td>\n",
              "      <td>4.740</td>\n",
              "      <td>4.788</td>\n",
              "      <td>4.788</td>\n",
              "      <td>5532000</td>\n",
              "      <td>26.600000</td>\n",
              "      <td>26.780001</td>\n",
              "      <td>26.150000</td>\n",
              "      <td>26.160000</td>\n",
              "      <td>...</td>\n",
              "      <td>32.430000</td>\n",
              "      <td>32.950001</td>\n",
              "      <td>25.466845</td>\n",
              "      <td>27321600</td>\n",
              "      <td>12.695357</td>\n",
              "      <td>12.704286</td>\n",
              "      <td>12.417143</td>\n",
              "      <td>12.475357</td>\n",
              "      <td>10.682329</td>\n",
              "      <td>456136800</td>\n",
              "    </tr>\n",
              "    <tr>\n",
              "      <th>2011-03-02</th>\n",
              "      <td>4.764</td>\n",
              "      <td>4.856</td>\n",
              "      <td>4.746</td>\n",
              "      <td>4.804</td>\n",
              "      <td>4.804</td>\n",
              "      <td>3316500</td>\n",
              "      <td>26.110001</td>\n",
              "      <td>26.370001</td>\n",
              "      <td>26.040001</td>\n",
              "      <td>26.080000</td>\n",
              "      <td>...</td>\n",
              "      <td>32.590000</td>\n",
              "      <td>32.880001</td>\n",
              "      <td>25.412746</td>\n",
              "      <td>14306700</td>\n",
              "      <td>12.498571</td>\n",
              "      <td>12.655357</td>\n",
              "      <td>12.442857</td>\n",
              "      <td>12.575714</td>\n",
              "      <td>10.768260</td>\n",
              "      <td>602590800</td>\n",
              "    </tr>\n",
              "    <tr>\n",
              "      <th>2011-03-03</th>\n",
              "      <td>4.896</td>\n",
              "      <td>4.958</td>\n",
              "      <td>4.812</td>\n",
              "      <td>4.872</td>\n",
              "      <td>4.872</td>\n",
              "      <td>3201000</td>\n",
              "      <td>26.260000</td>\n",
              "      <td>26.400000</td>\n",
              "      <td>26.180000</td>\n",
              "      <td>26.200001</td>\n",
              "      <td>...</td>\n",
              "      <td>32.650002</td>\n",
              "      <td>33.029999</td>\n",
              "      <td>25.528679</td>\n",
              "      <td>17614800</td>\n",
              "      <td>12.756786</td>\n",
              "      <td>12.849643</td>\n",
              "      <td>12.711429</td>\n",
              "      <td>12.841429</td>\n",
              "      <td>10.995788</td>\n",
              "      <td>500788400</td>\n",
              "    </tr>\n",
              "    <tr>\n",
              "      <th>2011-03-04</th>\n",
              "      <td>4.896</td>\n",
              "      <td>4.998</td>\n",
              "      <td>4.756</td>\n",
              "      <td>4.990</td>\n",
              "      <td>4.990</td>\n",
              "      <td>7900500</td>\n",
              "      <td>26.219999</td>\n",
              "      <td>26.240000</td>\n",
              "      <td>25.799999</td>\n",
              "      <td>25.950001</td>\n",
              "      <td>...</td>\n",
              "      <td>32.009998</td>\n",
              "      <td>32.389999</td>\n",
              "      <td>25.034027</td>\n",
              "      <td>24240900</td>\n",
              "      <td>12.859643</td>\n",
              "      <td>12.867500</td>\n",
              "      <td>12.776786</td>\n",
              "      <td>12.857143</td>\n",
              "      <td>11.009242</td>\n",
              "      <td>453266800</td>\n",
              "    </tr>\n",
              "    <tr>\n",
              "      <th>2011-03-07</th>\n",
              "      <td>4.986</td>\n",
              "      <td>5.080</td>\n",
              "      <td>4.940</td>\n",
              "      <td>4.988</td>\n",
              "      <td>4.988</td>\n",
              "      <td>10168000</td>\n",
              "      <td>26.129999</td>\n",
              "      <td>26.270000</td>\n",
              "      <td>25.549999</td>\n",
              "      <td>25.719999</td>\n",
              "      <td>...</td>\n",
              "      <td>31.520000</td>\n",
              "      <td>31.700001</td>\n",
              "      <td>24.500729</td>\n",
              "      <td>15077100</td>\n",
              "      <td>12.907143</td>\n",
              "      <td>12.916786</td>\n",
              "      <td>12.546786</td>\n",
              "      <td>12.691429</td>\n",
              "      <td>10.867343</td>\n",
              "      <td>546123200</td>\n",
              "    </tr>\n",
              "  </tbody>\n",
              "</table>\n",
              "<p>5 rows × 60 columns</p>\n",
              "</div>\n",
              "      <button class=\"colab-df-convert\" onclick=\"convertToInteractive('df-eadc5d6b-273f-46c5-bce0-5c90d5f86573')\"\n",
              "              title=\"Convert this dataframe to an interactive table.\"\n",
              "              style=\"display:none;\">\n",
              "        \n",
              "  <svg xmlns=\"http://www.w3.org/2000/svg\" height=\"24px\"viewBox=\"0 0 24 24\"\n",
              "       width=\"24px\">\n",
              "    <path d=\"M0 0h24v24H0V0z\" fill=\"none\"/>\n",
              "    <path d=\"M18.56 5.44l.94 2.06.94-2.06 2.06-.94-2.06-.94-.94-2.06-.94 2.06-2.06.94zm-11 1L8.5 8.5l.94-2.06 2.06-.94-2.06-.94L8.5 2.5l-.94 2.06-2.06.94zm10 10l.94 2.06.94-2.06 2.06-.94-2.06-.94-.94-2.06-.94 2.06-2.06.94z\"/><path d=\"M17.41 7.96l-1.37-1.37c-.4-.4-.92-.59-1.43-.59-.52 0-1.04.2-1.43.59L10.3 9.45l-7.72 7.72c-.78.78-.78 2.05 0 2.83L4 21.41c.39.39.9.59 1.41.59.51 0 1.02-.2 1.41-.59l7.78-7.78 2.81-2.81c.8-.78.8-2.07 0-2.86zM5.41 20L4 18.59l7.72-7.72 1.47 1.35L5.41 20z\"/>\n",
              "  </svg>\n",
              "      </button>\n",
              "      \n",
              "  <style>\n",
              "    .colab-df-container {\n",
              "      display:flex;\n",
              "      flex-wrap:wrap;\n",
              "      gap: 12px;\n",
              "    }\n",
              "\n",
              "    .colab-df-convert {\n",
              "      background-color: #E8F0FE;\n",
              "      border: none;\n",
              "      border-radius: 50%;\n",
              "      cursor: pointer;\n",
              "      display: none;\n",
              "      fill: #1967D2;\n",
              "      height: 32px;\n",
              "      padding: 0 0 0 0;\n",
              "      width: 32px;\n",
              "    }\n",
              "\n",
              "    .colab-df-convert:hover {\n",
              "      background-color: #E2EBFA;\n",
              "      box-shadow: 0px 1px 2px rgba(60, 64, 67, 0.3), 0px 1px 3px 1px rgba(60, 64, 67, 0.15);\n",
              "      fill: #174EA6;\n",
              "    }\n",
              "\n",
              "    [theme=dark] .colab-df-convert {\n",
              "      background-color: #3B4455;\n",
              "      fill: #D2E3FC;\n",
              "    }\n",
              "\n",
              "    [theme=dark] .colab-df-convert:hover {\n",
              "      background-color: #434B5C;\n",
              "      box-shadow: 0px 1px 3px 1px rgba(0, 0, 0, 0.15);\n",
              "      filter: drop-shadow(0px 1px 2px rgba(0, 0, 0, 0.3));\n",
              "      fill: #FFFFFF;\n",
              "    }\n",
              "  </style>\n",
              "\n",
              "      <script>\n",
              "        const buttonEl =\n",
              "          document.querySelector('#df-eadc5d6b-273f-46c5-bce0-5c90d5f86573 button.colab-df-convert');\n",
              "        buttonEl.style.display =\n",
              "          google.colab.kernel.accessAllowed ? 'block' : 'none';\n",
              "\n",
              "        async function convertToInteractive(key) {\n",
              "          const element = document.querySelector('#df-eadc5d6b-273f-46c5-bce0-5c90d5f86573');\n",
              "          const dataTable =\n",
              "            await google.colab.kernel.invokeFunction('convertToInteractive',\n",
              "                                                     [key], {});\n",
              "          if (!dataTable) return;\n",
              "\n",
              "          const docLinkHtml = 'Like what you see? Visit the ' +\n",
              "            '<a target=\"_blank\" href=https://colab.research.google.com/notebooks/data_table.ipynb>data table notebook</a>'\n",
              "            + ' to learn more about interactive tables.';\n",
              "          element.innerHTML = '';\n",
              "          dataTable['output_type'] = 'display_data';\n",
              "          await google.colab.output.renderOutput(dataTable, element);\n",
              "          const docLink = document.createElement('div');\n",
              "          docLink.innerHTML = docLinkHtml;\n",
              "          element.appendChild(docLink);\n",
              "        }\n",
              "      </script>\n",
              "    </div>\n",
              "  </div>\n",
              "  "
            ]
          },
          "metadata": {},
          "execution_count": 24
        }
      ]
    },
    {
      "cell_type": "markdown",
      "source": [
        "## A) Describa los principales negocios, riesgos e industria a la que pertenece.\n",
        "\n"
      ],
      "metadata": {
        "id": "BNp9s_WCXt3S"
      }
    },
    {
      "cell_type": "code",
      "source": [
        ""
      ],
      "metadata": {
        "id": "Wp9k4LzUX5zU"
      },
      "execution_count": null,
      "outputs": []
    },
    {
      "cell_type": "markdown",
      "source": [
        "## B) Determine la rentabilidad y riesgo del portafolio invirtiendo 10% en cada acción."
      ],
      "metadata": {
        "id": "XO9NCpfgX2vR"
      }
    },
    {
      "cell_type": "code",
      "source": [
        ""
      ],
      "metadata": {
        "id": "uqxwQyVqYPTl"
      },
      "execution_count": null,
      "outputs": []
    },
    {
      "cell_type": "markdown",
      "source": [
        "## C) Determine el portafolio de mínima varianza."
      ],
      "metadata": {
        "id": "aXYjKXjJYP5e"
      }
    },
    {
      "cell_type": "code",
      "source": [
        ""
      ],
      "metadata": {
        "id": "DBUIa2K9YUFw"
      },
      "execution_count": null,
      "outputs": []
    },
    {
      "cell_type": "markdown",
      "source": [
        "## D) Determine el portafolio óptimo Sharpe (determine Rf según el mercado seleccionado y justifique el valor calculado)."
      ],
      "metadata": {
        "id": "HOtG_nOgYUhv"
      }
    },
    {
      "cell_type": "code",
      "source": [
        ""
      ],
      "metadata": {
        "id": "vFNvPAZpYbZU"
      },
      "execution_count": null,
      "outputs": []
    },
    {
      "cell_type": "markdown",
      "source": [
        "\n",
        "## E) Determine la frontera eficiente de riesgo retorno (10 puntos al menos) e identifique en el gráfico los resultados obtenidos de las letras B), C) y D). Comente."
      ],
      "metadata": {
        "id": "UKzPgv9xYb3u"
      }
    },
    {
      "cell_type": "code",
      "source": [
        ""
      ],
      "metadata": {
        "id": "IlftuJ22Yczp"
      },
      "execution_count": null,
      "outputs": []
    }
  ]
}