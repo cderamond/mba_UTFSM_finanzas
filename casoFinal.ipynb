{
  "nbformat": 4,
  "nbformat_minor": 0,
  "metadata": {
    "colab": {
      "name": "casoFinal.ipynb",
      "provenance": [],
      "collapsed_sections": [],
      "authorship_tag": "ABX9TyPg2WSTwMbBgXxSMzuy61jO",
      "include_colab_link": true
    },
    "kernelspec": {
      "name": "python3",
      "display_name": "Python 3"
    },
    "language_info": {
      "name": "python"
    }
  },
  "cells": [
    {
      "cell_type": "markdown",
      "metadata": {
        "id": "view-in-github",
        "colab_type": "text"
      },
      "source": [
        "<a href=\"https://colab.research.google.com/github/cderamond/mba_UTFSM_finanzas/blob/caso_final/casoFinal.ipynb\" target=\"_parent\"><img src=\"https://colab.research.google.com/assets/colab-badge.svg\" alt=\"Open In Colab\"/></a>"
      ]
    },
    {
      "cell_type": "markdown",
      "source": [
        "# Actividad 2 (50 puntos)\n",
        "\n",
        "Descargar desde https://finance.yahoo.com/ los precios históricos mensuales de\n",
        "10 acciones (marzo 2011 a marzo 2022). Las acciones deben ser (transarse) en\n",
        "Estados Unidos y como máximo 3 acciones deben corresponder al mismo sector\n",
        "industrial. A partir de los datos mensuales, las estadísticas de cada acción y la correlación entre cada par de ellas:\n",
        "\n"
      ],
      "metadata": {
        "id": "oBZYkbRfXUfi"
      }
    },
    {
      "cell_type": "code",
      "source": [
        "!pip install yfinance --upgrade --no-cache-dir"
      ],
      "metadata": {
        "id": "j1DPeJdWoS-A"
      },
      "execution_count": null,
      "outputs": []
    },
    {
      "cell_type": "code",
      "execution_count": 13,
      "metadata": {
        "id": "Gyy79D8eXRlI"
      },
      "outputs": [],
      "source": [
        "# setting environment\n",
        "import numpy as np\n",
        "import yfinance as yf\n",
        "import datetime as dt\n",
        "import pandas as pd\n",
        " \n"
      ]
    },
    {
      "cell_type": "code",
      "source": [
        "#getting the stock data\n",
        "tickers = ['AAPL', 'MSFT', 'GOOGL', 'TSLA', 'KO', 'AMZN', 'GM', 'F', 'BRK-B', 'DIS']\n",
        "start_date = '2011-03-01'\n",
        "end_date = '2022-03-30'\n",
        "\n",
        "# bajamos la data de todas las acciones\n",
        "data = yf.download(tickers, start_date, end_date, group_by='ticker')\n",
        "# ahora las del SP500, VOO ETF como benchmark\n",
        "sp= yf.download('VOO', start_date, end_date, group_by='ticker')"
      ],
      "metadata": {
        "colab": {
          "base_uri": "https://localhost:8080/"
        },
        "id": "sWf80aTEZK-b",
        "outputId": "ead34dcf-8a61-45d4-a893-2932a83eb9f2"
      },
      "execution_count": 39,
      "outputs": [
        {
          "output_type": "stream",
          "name": "stdout",
          "text": [
            "[*********************100%***********************]  10 of 10 completed\n",
            "[*********************100%***********************]  1 of 1 completed\n"
          ]
        }
      ]
    },
    {
      "cell_type": "code",
      "source": [
        "# ahora ajustamos el data frame con el precio de cierre ajustado\n",
        "dataadj = data.stack(level=0).rename_axis(['Date', 'Ticker']).reset_index(level=1)\n",
        "#sp = sp.stack(level=0).rename_axis(['Date', 'Ticker']).reset_index(level=1)\n",
        "sp = sp[['Adj Close']]\n",
        "dataadj = dataadj[['Ticker','Adj Close']]\n",
        "\n"
      ],
      "metadata": {
        "colab": {
          "base_uri": "https://localhost:8080/",
          "height": 455
        },
        "id": "dJkqvBoom7AV",
        "outputId": "35b155b2-95e8-45b4-ba68-363b10fdab3d"
      },
      "execution_count": 41,
      "outputs": [
        {
          "output_type": "execute_result",
          "data": {
            "text/plain": [
              "             Adj Close\n",
              "Date                  \n",
              "2011-03-01   96.746788\n",
              "2011-03-02   97.021599\n",
              "2011-03-03   98.686577\n",
              "2011-03-04   97.959160\n",
              "2011-03-07   97.102425\n",
              "...                ...\n",
              "2022-03-23  407.955994\n",
              "2022-03-24  414.019989\n",
              "2022-03-25  416.119995\n",
              "2022-03-28  418.989990\n",
              "2022-03-29  424.290009\n",
              "\n",
              "[2790 rows x 1 columns]"
            ],
            "text/html": [
              "\n",
              "  <div id=\"df-29dd8117-9aad-4f0a-a961-7d0d2766f0d5\">\n",
              "    <div class=\"colab-df-container\">\n",
              "      <div>\n",
              "<style scoped>\n",
              "    .dataframe tbody tr th:only-of-type {\n",
              "        vertical-align: middle;\n",
              "    }\n",
              "\n",
              "    .dataframe tbody tr th {\n",
              "        vertical-align: top;\n",
              "    }\n",
              "\n",
              "    .dataframe thead th {\n",
              "        text-align: right;\n",
              "    }\n",
              "</style>\n",
              "<table border=\"1\" class=\"dataframe\">\n",
              "  <thead>\n",
              "    <tr style=\"text-align: right;\">\n",
              "      <th></th>\n",
              "      <th>Adj Close</th>\n",
              "    </tr>\n",
              "    <tr>\n",
              "      <th>Date</th>\n",
              "      <th></th>\n",
              "    </tr>\n",
              "  </thead>\n",
              "  <tbody>\n",
              "    <tr>\n",
              "      <th>2011-03-01</th>\n",
              "      <td>96.746788</td>\n",
              "    </tr>\n",
              "    <tr>\n",
              "      <th>2011-03-02</th>\n",
              "      <td>97.021599</td>\n",
              "    </tr>\n",
              "    <tr>\n",
              "      <th>2011-03-03</th>\n",
              "      <td>98.686577</td>\n",
              "    </tr>\n",
              "    <tr>\n",
              "      <th>2011-03-04</th>\n",
              "      <td>97.959160</td>\n",
              "    </tr>\n",
              "    <tr>\n",
              "      <th>2011-03-07</th>\n",
              "      <td>97.102425</td>\n",
              "    </tr>\n",
              "    <tr>\n",
              "      <th>...</th>\n",
              "      <td>...</td>\n",
              "    </tr>\n",
              "    <tr>\n",
              "      <th>2022-03-23</th>\n",
              "      <td>407.955994</td>\n",
              "    </tr>\n",
              "    <tr>\n",
              "      <th>2022-03-24</th>\n",
              "      <td>414.019989</td>\n",
              "    </tr>\n",
              "    <tr>\n",
              "      <th>2022-03-25</th>\n",
              "      <td>416.119995</td>\n",
              "    </tr>\n",
              "    <tr>\n",
              "      <th>2022-03-28</th>\n",
              "      <td>418.989990</td>\n",
              "    </tr>\n",
              "    <tr>\n",
              "      <th>2022-03-29</th>\n",
              "      <td>424.290009</td>\n",
              "    </tr>\n",
              "  </tbody>\n",
              "</table>\n",
              "<p>2790 rows × 1 columns</p>\n",
              "</div>\n",
              "      <button class=\"colab-df-convert\" onclick=\"convertToInteractive('df-29dd8117-9aad-4f0a-a961-7d0d2766f0d5')\"\n",
              "              title=\"Convert this dataframe to an interactive table.\"\n",
              "              style=\"display:none;\">\n",
              "        \n",
              "  <svg xmlns=\"http://www.w3.org/2000/svg\" height=\"24px\"viewBox=\"0 0 24 24\"\n",
              "       width=\"24px\">\n",
              "    <path d=\"M0 0h24v24H0V0z\" fill=\"none\"/>\n",
              "    <path d=\"M18.56 5.44l.94 2.06.94-2.06 2.06-.94-2.06-.94-.94-2.06-.94 2.06-2.06.94zm-11 1L8.5 8.5l.94-2.06 2.06-.94-2.06-.94L8.5 2.5l-.94 2.06-2.06.94zm10 10l.94 2.06.94-2.06 2.06-.94-2.06-.94-.94-2.06-.94 2.06-2.06.94z\"/><path d=\"M17.41 7.96l-1.37-1.37c-.4-.4-.92-.59-1.43-.59-.52 0-1.04.2-1.43.59L10.3 9.45l-7.72 7.72c-.78.78-.78 2.05 0 2.83L4 21.41c.39.39.9.59 1.41.59.51 0 1.02-.2 1.41-.59l7.78-7.78 2.81-2.81c.8-.78.8-2.07 0-2.86zM5.41 20L4 18.59l7.72-7.72 1.47 1.35L5.41 20z\"/>\n",
              "  </svg>\n",
              "      </button>\n",
              "      \n",
              "  <style>\n",
              "    .colab-df-container {\n",
              "      display:flex;\n",
              "      flex-wrap:wrap;\n",
              "      gap: 12px;\n",
              "    }\n",
              "\n",
              "    .colab-df-convert {\n",
              "      background-color: #E8F0FE;\n",
              "      border: none;\n",
              "      border-radius: 50%;\n",
              "      cursor: pointer;\n",
              "      display: none;\n",
              "      fill: #1967D2;\n",
              "      height: 32px;\n",
              "      padding: 0 0 0 0;\n",
              "      width: 32px;\n",
              "    }\n",
              "\n",
              "    .colab-df-convert:hover {\n",
              "      background-color: #E2EBFA;\n",
              "      box-shadow: 0px 1px 2px rgba(60, 64, 67, 0.3), 0px 1px 3px 1px rgba(60, 64, 67, 0.15);\n",
              "      fill: #174EA6;\n",
              "    }\n",
              "\n",
              "    [theme=dark] .colab-df-convert {\n",
              "      background-color: #3B4455;\n",
              "      fill: #D2E3FC;\n",
              "    }\n",
              "\n",
              "    [theme=dark] .colab-df-convert:hover {\n",
              "      background-color: #434B5C;\n",
              "      box-shadow: 0px 1px 3px 1px rgba(0, 0, 0, 0.15);\n",
              "      filter: drop-shadow(0px 1px 2px rgba(0, 0, 0, 0.3));\n",
              "      fill: #FFFFFF;\n",
              "    }\n",
              "  </style>\n",
              "\n",
              "      <script>\n",
              "        const buttonEl =\n",
              "          document.querySelector('#df-29dd8117-9aad-4f0a-a961-7d0d2766f0d5 button.colab-df-convert');\n",
              "        buttonEl.style.display =\n",
              "          google.colab.kernel.accessAllowed ? 'block' : 'none';\n",
              "\n",
              "        async function convertToInteractive(key) {\n",
              "          const element = document.querySelector('#df-29dd8117-9aad-4f0a-a961-7d0d2766f0d5');\n",
              "          const dataTable =\n",
              "            await google.colab.kernel.invokeFunction('convertToInteractive',\n",
              "                                                     [key], {});\n",
              "          if (!dataTable) return;\n",
              "\n",
              "          const docLinkHtml = 'Like what you see? Visit the ' +\n",
              "            '<a target=\"_blank\" href=https://colab.research.google.com/notebooks/data_table.ipynb>data table notebook</a>'\n",
              "            + ' to learn more about interactive tables.';\n",
              "          element.innerHTML = '';\n",
              "          dataTable['output_type'] = 'display_data';\n",
              "          await google.colab.output.renderOutput(dataTable, element);\n",
              "          const docLink = document.createElement('div');\n",
              "          docLink.innerHTML = docLinkHtml;\n",
              "          element.appendChild(docLink);\n",
              "        }\n",
              "      </script>\n",
              "    </div>\n",
              "  </div>\n",
              "  "
            ]
          },
          "metadata": {},
          "execution_count": 41
        }
      ]
    },
    {
      "cell_type": "markdown",
      "source": [
        "## A) Describa los principales negocios, riesgos e industria a la que pertenece.\n",
        "\n"
      ],
      "metadata": {
        "id": "BNp9s_WCXt3S"
      }
    },
    {
      "cell_type": "code",
      "source": [
        ""
      ],
      "metadata": {
        "id": "Wp9k4LzUX5zU"
      },
      "execution_count": null,
      "outputs": []
    },
    {
      "cell_type": "markdown",
      "source": [
        "## B) Determine la rentabilidad y riesgo del portafolio invirtiendo 10% en cada acción."
      ],
      "metadata": {
        "id": "XO9NCpfgX2vR"
      }
    },
    {
      "cell_type": "code",
      "source": [
        ""
      ],
      "metadata": {
        "id": "uqxwQyVqYPTl"
      },
      "execution_count": null,
      "outputs": []
    },
    {
      "cell_type": "markdown",
      "source": [
        "## C) Determine el portafolio de mínima varianza."
      ],
      "metadata": {
        "id": "aXYjKXjJYP5e"
      }
    },
    {
      "cell_type": "code",
      "source": [
        ""
      ],
      "metadata": {
        "id": "DBUIa2K9YUFw"
      },
      "execution_count": null,
      "outputs": []
    },
    {
      "cell_type": "markdown",
      "source": [
        "## D) Determine el portafolio óptimo Sharpe (determine Rf según el mercado seleccionado y justifique el valor calculado)."
      ],
      "metadata": {
        "id": "HOtG_nOgYUhv"
      }
    },
    {
      "cell_type": "code",
      "source": [
        ""
      ],
      "metadata": {
        "id": "vFNvPAZpYbZU"
      },
      "execution_count": null,
      "outputs": []
    },
    {
      "cell_type": "markdown",
      "source": [
        "\n",
        "## E) Determine la frontera eficiente de riesgo retorno (10 puntos al menos) e identifique en el gráfico los resultados obtenidos de las letras B), C) y D). Comente."
      ],
      "metadata": {
        "id": "UKzPgv9xYb3u"
      }
    },
    {
      "cell_type": "code",
      "source": [
        ""
      ],
      "metadata": {
        "id": "IlftuJ22Yczp"
      },
      "execution_count": null,
      "outputs": []
    }
  ]
}